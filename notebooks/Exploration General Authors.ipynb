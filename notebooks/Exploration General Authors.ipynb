{
 "cells": [
  {
   "cell_type": "code",
   "execution_count": 2,
   "metadata": {
    "collapsed": true
   },
   "outputs": [],
   "source": [
    "import sys\n",
    "import os\n",
    "import importlib\n",
    "import matplotlib.pyplot as plt\n",
    "import numpy as np\n",
    "import matplotlib\n",
    "from sklearn.preprocessing import normalize\n",
    "sys.path.insert(0, os.path.join(os.getcwd(),\"..\",\"data\"))\n",
    "sys.path.insert(0, os.path.join(os.getcwd(),\"..\",\"src\",\"data\"))\n",
    "sys.path.insert(0, os.path.join(os.getcwd(),\"..\",\"src\",\"model\"))\n",
    "from DataLoader import DataLoader"
   ]
  },
  {
   "cell_type": "code",
   "execution_count": 3,
   "metadata": {},
   "outputs": [
    {
     "name": "stdout",
     "output_type": "stream",
     "text": [
      "Process 'chapters_books_2013' not in memory yet.\n",
      "Process 'chapters_bookeditions_2013' not in memory yet.\n",
      "Process 'chapters_2013#title' not in memory yet.\n",
      "Process 'chapters_2013#language' not in memory yet.\n",
      "Process 'chapters_books_2014' not in memory yet.\n",
      "Process 'chapters_bookeditions_2014' not in memory yet.\n",
      "Process 'chapters_2014#title' not in memory yet.\n",
      "Process 'chapters_2014#language' not in memory yet.\n",
      "Process 'chapters_books_2015' not in memory yet.\n",
      "Process 'chapters_bookeditions_2015' not in memory yet.\n",
      "Process 'chapters_2015#title' not in memory yet.\n",
      "Process 'chapters_2015#language' not in memory yet.\n",
      "Process 'contributions_chapters_2013' not in memory yet.\n",
      "Process 'contributions_chapters_2014' not in memory yet.\n",
      "Process 'contributions_chapters_2015' not in memory yet.\n",
      "Process 'contributions_2013#publishedName' not in memory yet.\n",
      "Process 'contributions_2014#publishedName' not in memory yet.\n",
      "Process 'contributions_2015#publishedName' not in memory yet.\n",
      "Process 'contributions_2013#order' not in memory yet.\n",
      "Process 'contributions_2014#order' not in memory yet.\n",
      "Process 'contributions_2015#order' not in memory yet.\n",
      "Process 'contributions_2013#isCorresponding' not in memory yet.\n",
      "Process 'contributions_2014#isCorresponding' not in memory yet.\n",
      "Process 'contributions_2015#isCorresponding' not in memory yet.\n",
      "Process 'chapters_books_2016' not in memory yet.\n",
      "Process 'chapters_bookeditions_2016' not in memory yet.\n",
      "Process 'chapters_2016#title' not in memory yet.\n",
      "Process 'chapters_2016#language' not in memory yet.\n",
      "Process 'contributions_chapters_2016' not in memory yet.\n",
      "Process 'contributions_2016#publishedName' not in memory yet.\n",
      "Process 'contributions_2016#order' not in memory yet.\n",
      "Process 'contributions_2016#isCorresponding' not in memory yet.\n"
     ]
    },
    {
     "data": {
      "text/plain": [
       "<DataLoader.DataLoader at 0x20005e2f6d8>"
      ]
     },
     "execution_count": 3,
     "metadata": {},
     "output_type": "execute_result"
    }
   ],
   "source": [
    "import pandas as pd\n",
    "\n",
    "d_train = DataLoader()\n",
    "d_train.papers([\"2013\",\"2014\",\"2015\"]).contributions()\n",
    "\n",
    "d_test = DataLoader()\n",
    "d_test.papers([\"2016\"]).contributions()"
   ]
  },
  {
   "cell_type": "markdown",
   "metadata": {},
   "source": [
    "# Training vs. Test set"
   ]
  },
  {
   "cell_type": "code",
   "execution_count": 9,
   "metadata": {},
   "outputs": [
    {
     "name": "stdout",
     "output_type": "stream",
     "text": [
      "train: 110813, test: 53861, intersect: 20529 = 0.3811477692579046\n"
     ]
    }
   ],
   "source": [
    "num_train = (len(d_train.data[\"author_name\"].unique()))\n",
    "num_test = (len(d_test.data[\"author_name\"].unique()))\n",
    "intersect = (len(set(d_train.data[\"author_name\"].unique()).intersection(set(d_test.data[\"author_name\"].unique()))))\n",
    "\n",
    "print(\"train: {}, test: {}, intersect: {} = {}\".format(num_train,num_test,intersect,intersect/num_test))"
   ]
  }
 ],
 "metadata": {
  "kernelspec": {
   "display_name": "Python 3",
   "language": "python",
   "name": "python3"
  },
  "language_info": {
   "codemirror_mode": {
    "name": "ipython",
    "version": 3
   },
   "file_extension": ".py",
   "mimetype": "text/x-python",
   "name": "python",
   "nbconvert_exporter": "python",
   "pygments_lexer": "ipython3",
   "version": "3.6.1"
  }
 },
 "nbformat": 4,
 "nbformat_minor": 2
}
