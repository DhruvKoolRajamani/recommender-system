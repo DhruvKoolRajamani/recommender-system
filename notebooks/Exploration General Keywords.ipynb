{
 "cells": [
  {
   "cell_type": "code",
   "execution_count": 33,
   "metadata": {
    "collapsed": true
   },
   "outputs": [],
   "source": [
    "import sys\n",
    "import os\n",
    "import importlib\n",
    "import matplotlib.pyplot as plt\n",
    "import numpy as np\n",
    "import matplotlib\n",
    "import pandas as pd\n",
    "from sklearn.preprocessing import normalize\n",
    "sys.path.insert(0, os.path.join(os.getcwd(),\"..\",\"data\"))\n",
    "sys.path.insert(0, os.path.join(os.getcwd(),\"..\",\"src\",\"data\"))\n",
    "sys.path.insert(0, os.path.join(os.getcwd(),\"..\",\"src\",\"model\"))\n",
    "from DataLoader import DataLoader\n",
    "from FileParser import FileParser"
   ]
  },
  {
   "cell_type": "code",
   "execution_count": 34,
   "metadata": {
    "collapsed": true
   },
   "outputs": [],
   "source": [
    "parser = FileParser()"
   ]
  },
  {
   "cell_type": "code",
   "execution_count": 35,
   "metadata": {},
   "outputs": [
    {
     "name": "stdout",
     "output_type": "stream",
     "text": [
      "Process 'chapters_books_2013' not in memory yet.\n",
      "Process 'chapters_bookeditions_2013' not in memory yet.\n",
      "Process 'chapters_2013#title' not in memory yet.\n",
      "Process 'chapters_2013#language' not in memory yet.\n",
      "Process 'chapters_books_2014' not in memory yet.\n",
      "Process 'chapters_bookeditions_2014' not in memory yet.\n",
      "Process 'chapters_2014#title' not in memory yet.\n",
      "Process 'chapters_2014#language' not in memory yet.\n",
      "Process 'chapters_books_2015' not in memory yet.\n",
      "Process 'chapters_bookeditions_2015' not in memory yet.\n",
      "Process 'chapters_2015#title' not in memory yet.\n",
      "Process 'chapters_2015#language' not in memory yet.\n",
      "Process 'books_conferences' not in memory yet.\n",
      "Process 'conferences#acronym' not in memory yet.\n",
      "Process 'conferences#city' not in memory yet.\n",
      "Process 'conferences#country' not in memory yet.\n",
      "Process 'conferences#dateend' not in memory yet.\n",
      "Process 'conferences#datestart' not in memory yet.\n",
      "Process 'conferences#name' not in memory yet.\n",
      "Process 'conferences#year' not in memory yet.\n",
      "Process 'bookeditions#marketcodes' not in memory yet.\n",
      "Process 'marketcodes#name' not in memory yet.\n",
      "Process 'chapters_books_2016' not in memory yet.\n",
      "Process 'chapters_bookeditions_2016' not in memory yet.\n",
      "Process 'chapters_2016#title' not in memory yet.\n",
      "Process 'chapters_2016#language' not in memory yet.\n",
      "Process 'books_conferences' not in memory yet.\n",
      "Process 'conferences#acronym' not in memory yet.\n",
      "Process 'conferences#city' not in memory yet.\n",
      "Process 'conferences#country' not in memory yet.\n",
      "Process 'conferences#dateend' not in memory yet.\n",
      "Process 'conferences#datestart' not in memory yet.\n",
      "Process 'conferences#name' not in memory yet.\n",
      "Process 'conferences#year' not in memory yet.\n",
      "Process 'bookeditions#marketcodes' not in memory yet.\n",
      "Process 'marketcodes#name' not in memory yet.\n",
      "Process 'marketcodes#name' not in memory yet.\n"
     ]
    }
   ],
   "source": [
    "keywords_train = DataLoader().papers([\"2013\",\"2014\",\"2015\"]).conferences().keywords().data\n",
    "keywords_test = DataLoader().papers([\"2016\"]).conferences().keywords().data\n",
    "keywords = pd.DataFrame(\n",
    "    list(parser.getData(\"marketcodes#name\").items()),\n",
    "    columns=[\"keyword\",\"keyword_label\"]\n",
    ")"
   ]
  },
  {
   "cell_type": "markdown",
   "metadata": {},
   "source": [
    "# Training vs. Test set"
   ]
  },
  {
   "cell_type": "code",
   "execution_count": 36,
   "metadata": {},
   "outputs": [
    {
     "name": "stdout",
     "output_type": "stream",
     "text": [
      "346885\n",
      "135980\n",
      "train: 155, test: 150, intersect: 115 = 0.7666666666666667\n"
     ]
    }
   ],
   "source": [
    "print(len(keywords_train))\n",
    "print(len(keywords_test))\n",
    "\n",
    "num_train = len(keywords_train.keyword.unique())\n",
    "num_test = len(keywords_test.keyword.unique())\n",
    "intersect = len(set(keywords_train.keyword.unique()).intersection(set(keywords_test.keyword.unique())))\n",
    "\n",
    "print(\"train: {}, test: {}, intersect: {} = {}\".format(num_train,num_test,intersect,intersect/num_test))"
   ]
  },
  {
   "cell_type": "code",
   "execution_count": 74,
   "metadata": {},
   "outputs": [
    {
     "name": "stdout",
     "output_type": "stream",
     "text": [
      "train: 154, test: 147\n"
     ]
    }
   ],
   "source": [
    "num_train_lab = len(keywords_train.keyword_label.unique())\n",
    "num_test_lab = len(keywords_test.keyword_label.unique())\n",
    "\n",
    "print(\"train: {}, test: {}\".format(num_train_lab,num_test_lab))"
   ]
  },
  {
   "cell_type": "markdown",
   "metadata": {},
   "source": [
    "# Popular keywords"
   ]
  },
  {
   "cell_type": "code",
   "execution_count": 37,
   "metadata": {},
   "outputs": [
    {
     "data": {
      "text/plain": [
       "keyword_label\n",
       "Computer Science                                               57212\n",
       "Artificial Intelligence (incl. Robotics)                       25588\n",
       "Information Systems Applications (incl.Internet)               24658\n",
       "Algorithm Analysis and Problem Complexity                      17081\n",
       "Information Storage and Retrieval                              16346\n",
       "Data Mining and Knowledge Discovery                            12813\n",
       "Computer Communication Networks                                12262\n",
       "Pattern Recognition                                            11757\n",
       "User Interfaces and Human Computer Interaction                 11315\n",
       "Software Engineering                                           11302\n",
       "Image Processing and Computer Vision                            8848\n",
       "Computation by Abstract Devices                                 7837\n",
       "Database Management                                             7484\n",
       "Computers and Society                                           7000\n",
       "Discrete Mathematics in Computer Science                        6119\n",
       "Systems and Data Security                                       5585\n",
       "Management of Computing and Information Systems                 5274\n",
       "Logics and Meanings of Programs                                 5188\n",
       "Mathematical Logic and Formal Languages                         4920\n",
       "Simulation and Modeling                                         4606\n",
       "Computer Applications                                           4567\n",
       "Computer Graphics                                               4390\n",
       "Computers and Education                                         4152\n",
       "Computer Imaging, Vision, Pattern Recognition and Graphics      3805\n",
       "Data Encryption                                                 3724\n",
       "Health Informatics                                              3586\n",
       "Numeric Computing                                               3268\n",
       "Programming Languages, Compilers, Interpreters                  3223\n",
       "Computer Appl. in Administrative Data Processing                3089\n",
       "Computational Biology/Bioinformatics                            2648\n",
       "                                                               ...  \n",
       "Numerical and Computational Physics, Simulation                   34\n",
       "Information and Communication, Circuits                           34\n",
       "Computational Science and Engineering                             34\n",
       "Economic Theory/Quantitative Economics/Mathematical Methods       32\n",
       "Learning and Instruction                                          32\n",
       "Science Education                                                 32\n",
       "Business and Management, general                                  31\n",
       "Knowledge Management                                              29\n",
       "Services                                                          27\n",
       "Register-Transfer-Level Implementation                            25\n",
       "Software Management                                               24\n",
       "Procurement                                                       24\n",
       "Quantum Information Technology, Spintronics                       24\n",
       "Biomedicine, general                                              24\n",
       "Manufacturing, Machines, Tools                                    20\n",
       "Natural Hazards                                                   19\n",
       "Environmental Engineering/Biotechnology                           19\n",
       "Algebra                                                           18\n",
       "e-Business/e-Commerce                                             18\n",
       "Convex and Discrete Geometry                                      16\n",
       "Cultural and Media Studies                                        14\n",
       "Library Science                                                   14\n",
       "Optics, Lasers, Photonics, Optical Devices                        12\n",
       "Quantum Physics                                                   12\n",
       "Quantum Optics                                                    12\n",
       "Mathematical and Computational Engineering                        11\n",
       "Renewable and Green Energy                                        11\n",
       "Partial Differential Equations                                     9\n",
       "Sports Medicine                                                    8\n",
       "Finance, general                                                   7\n",
       "Name: bookedition, Length: 154, dtype: int64"
      ]
     },
     "execution_count": 37,
     "metadata": {},
     "output_type": "execute_result"
    }
   ],
   "source": [
    "keywords_train.groupby(by=[\"keyword_label\"])[\"bookedition\"].count().sort_values(ascending=False)\n",
    "# mostly Computer Science related: 57212/57797=99%"
   ]
  },
  {
   "cell_type": "markdown",
   "metadata": {},
   "source": [
    "## Keyword duplicate?"
   ]
  },
  {
   "cell_type": "code",
   "execution_count": 38,
   "metadata": {
    "collapsed": true
   },
   "outputs": [],
   "source": [
    "check_labels = keywords"
   ]
  },
  {
   "cell_type": "code",
   "execution_count": 39,
   "metadata": {},
   "outputs": [
    {
     "name": "stdout",
     "output_type": "stream",
     "text": [
      "1465\n",
      "1451\n"
     ]
    }
   ],
   "source": [
    "print(\n",
    "    len(check_labels.keyword.unique())\n",
    ")\n",
    "\n",
    "print(\n",
    "    len(check_labels.keyword_label.unique())\n",
    ")"
   ]
  },
  {
   "cell_type": "code",
   "execution_count": 40,
   "metadata": {},
   "outputs": [
    {
     "data": {
      "text/plain": [
       "keyword_label\n",
       "\"Renewable and Green Energy\"                                    2\n",
       "\"Philosophy of History\"                                         2\n",
       "\"Science, Humanities and Social Sciences, multidisciplinary\"    2\n",
       "\"Quality of Life Research\"                                      2\n",
       "\"Business Ethics\"                                               2\n",
       "\"Dentistry\"                                                     2\n",
       "\"Sociology of Education\"                                        2\n",
       "\"Social Policy\"                                                 2\n",
       "\"Complex Systems\"                                               2\n",
       "\"Gender Studies\"                                                2\n",
       "\"Health Informatics\"                                            2\n",
       "\"Systems Biology\"                                               2\n",
       "\"Pharmacy\"                                                      2\n",
       "\"Rehabilitation\"                                                2\n",
       "dtype: int64"
      ]
     },
     "execution_count": 40,
     "metadata": {},
     "output_type": "execute_result"
    }
   ],
   "source": [
    "df = check_labels.groupby([\"keyword\",\"keyword_label\"]).size().reset_index()[[\"keyword\",\"keyword_label\"]]\n",
    "df = df.groupby(\"keyword_label\").size().sort_values(ascending=False)\n",
    "#df[df.keyword_label==\"Health Informatics\"]\n",
    "df[df>1]"
   ]
  },
  {
   "cell_type": "markdown",
   "metadata": {},
   "source": [
    "# Number of keywords per book"
   ]
  },
  {
   "cell_type": "code",
   "execution_count": 62,
   "metadata": {
    "collapsed": true
   },
   "outputs": [],
   "source": [
    "df = keywords_train.groupby([\"bookedition\",\"keyword\"]).count().reset_index()\n",
    "counts = df.groupby(\"bookedition\").count().reset_index()[[\"bookedition\",\"keyword\"]]"
   ]
  },
  {
   "cell_type": "code",
   "execution_count": 66,
   "metadata": {},
   "outputs": [
    {
     "name": "stdout",
     "output_type": "stream",
     "text": [
      "keyword    6.0\n",
      "dtype: float64\n",
      "keyword    5.839657\n",
      "dtype: float64\n"
     ]
    }
   ],
   "source": [
    "print(counts.median())\n",
    "print(counts.mean())"
   ]
  },
  {
   "cell_type": "code",
   "execution_count": 72,
   "metadata": {},
   "outputs": [
    {
     "data": {
      "image/png": "[encoded data removed]",
      "text/plain": [
       "<matplotlib.figure.Figure at 0x24ba36e4898>"
      ]
     },
     "metadata": {},
     "output_type": "display_data"
    }
   ],
   "source": [
    "counts.groupby(\"keyword\").count().plot(kind=\"bar\")\n",
    "plt.xlabel(\"Keywords\")\n",
    "plt.ylabel(\"Frequency\")\n",
    "plt.legend().remove()\n",
    "plt.show()"
   ]
  }
 ],
 "metadata": {
  "kernelspec": {
   "display_name": "Python 3",
   "language": "python",
   "name": "python3"
  },
  "language_info": {
   "codemirror_mode": {
    "name": "ipython",
    "version": 3
   },
   "file_extension": ".py",
   "mimetype": "text/x-python",
   "name": "python",
   "nbconvert_exporter": "python",
   "pygments_lexer": "ipython3",
   "version": "3.6.1"
  }
 },
 "nbformat": 4,
 "nbformat_minor": 2
}
